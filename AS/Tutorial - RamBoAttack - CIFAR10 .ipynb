{
 "cells": [
  {
   "cell_type": "markdown",
   "id": "78193fe6",
   "metadata": {},
   "source": [
    "### 0. Import libraries & functions"
   ]
  },
  {
   "cell_type": "code",
   "execution_count": 2,
   "id": "5ef22921",
   "metadata": {},
   "outputs": [],
   "source": [
    "import os\n",
    "import sys\n",
    "os.environ[\"CUDA_DEVICE_ORDER\"]=\"PCI_BUS_ID\"\n",
    "os.environ[\"CUDA_VISIBLE_DEVICES\"]=\"0\";\n",
    "#from pudb import set_trace\n",
    "import numpy as np\n",
    "import torch\n",
    "from torchvision import models\n",
    "\n",
    "import torch.backends.cudnn as cudnn\n",
    "import random\n",
    "from tqdm import tqdm\n",
    "import matplotlib.pyplot as plt\n",
    "import seaborn as sns\n",
    "\n",
    "from utils_rb import *\n",
    "from ramboattack import RamBoAtt\n",
    "from HSJA_rb import HSJA\n",
    "from SignOPT_rb import OPT_attack_sign_SGD\n",
    "\n",
    "action = -1\n",
    "\n",
    "import torch.nn as nn\n",
    "\n",
    "# 定义Net类 (定义网络)\n",
    "\n",
    "N_ACTIONS = 2               \n",
    "N_STATES = 20\n",
    "\n",
    "BATCH_SIZE = 32                                 # 样本数量\n",
    "LR = 0.01                                       # 学习率\n",
    "EPSILON = 0.99                                   # greedy policy\n",
    "GAMMA = 0.9                                     # reward discount\n",
    "TARGET_REPLACE_ITER = 100                       # 目标网络更新频率\n",
    "MEMORY_CAPACITY = 2000                          # 记忆库容量\n",
    "\n",
    "class Net(nn.Module):\n",
    "    def __init__(self):                                                         # 定义Net的一系列属性\n",
    "        # nn.Module的子类函数必须在构造函数中执行父类的构造函数\n",
    "        super(Net, self).__init__()                                             # 等价与nn.Module.__init__()\n",
    "\n",
    "        self.fc1 = nn.Linear(N_STATES, 50)                                      # 设置第一个全连接层(输入层到隐藏层): 状态数个神经元到50个神经元\n",
    "        self.fc1.weight.data.normal_(0, 0.1)                                    # 权重初始化 (均值为0，方差为0.1的正态分布)\n",
    "        self.out = nn.Linear(50, N_ACTIONS)                                     # 设置第二个全连接层(隐藏层到输出层): 50个神经元到动作数个神经元\n",
    "        self.out.weight.data.normal_(0, 0.1)                                    # 权重初始化 (均值为0，方差为0.1的正态分布)\n",
    "\n",
    "    def forward(self, x):                                                       # 定义forward函数 (x为状态)\n",
    "        x = F.relu(self.fc1(x))                                                 # 连接输入层到隐藏层，且使用激励函数ReLU来处理经过隐藏层后的值\n",
    "        actions_value = self.out(x)                                             # 连接隐藏层到输出层，获得最终的输出值 (即动作值)\n",
    "        return actions_value \n",
    "    \n",
    "class DQN(object):\n",
    "    def __init__(self):                                                         # 定义DQN的一系列属性\n",
    "        self.eval_net, self.target_net = Net(), Net()                           # 利用Net创建两个神经网络:评估网络和目标网络\n",
    "        self.learn_step_counter = 0                                             # for target updating\n",
    "        self.memory_counter = 0                                                 # for storing memory\n",
    "        self.memory = np.zeros((MEMORY_CAPACITY, N_STATES * 2 +2 ))             # 初始化记忆库，一行代表一个transition\n",
    "        self.optimizer = torch.optim.Adam(self.eval_net.parameters(), lr=LR)    # 使用Adam优化器(输入为评估网络的参数和学习率)\n",
    "        self.loss_func = nn.MSELoss()                                           # 使用均方损失函数 (loss(xi, yi)=(xi-yi)^2)\n",
    "\n",
    "    def choose_action(self, x):                                                 # 定义动作选择函数 (x为状态)\n",
    "        x = torch.unsqueeze(torch.FloatTensor(x), 0)                            # 将x转换成32-bit floating point形式，并在dim=0增加维数为1的维度\n",
    "        if np.random.uniform() < EPSILON:                                       # 生成一个在[0, 1)内的随机数，如果小于EPSILON，选择最优动作\n",
    "            actions_value = self.eval_net.forward(x)                            # 通过对评估网络输入状态x，前向传播获得动作值\n",
    "            action = torch.max(actions_value, 1)[1].data.numpy()                # 输出每一行最大值的索引，并转化为numpy ndarray形式\n",
    "            action = action[0]                                                  # 输出action的第一个数\n",
    "        else:                                                                   # 随机选择动作\n",
    "            action = np.random.randint(0, N_ACTIONS)                            # 这里action随机等于0或1 (N_ACTIONS = 2)\n",
    "        return action                                                           # 返回选择的动作 (0或1)\n",
    "\n",
    "    def store_transition(self, s, a, r, s_):                                    # 定义记忆存储函数 (这里输入为一个transition)\n",
    "        transition = np.hstack((s, [a, r], s_))                                 # 在水平方向上拼接数组\n",
    "        # 如果记忆库满了，便覆盖旧的数据\n",
    "        index = self.memory_counter % MEMORY_CAPACITY                           # 获取transition要置入的行数\n",
    "        self.memory[index, :] = transition                                      # 置入transition\n",
    "        self.memory_counter += 1                                                # memory_counter自加1\n",
    "\n",
    "    def learn(self):                                                            # 定义学习函数(记忆库已满后便开始学习)\n",
    "        # 目标网络参数更新\n",
    "        if self.learn_step_counter % TARGET_REPLACE_ITER == 0:                  # 一开始触发，然后每100步触发\n",
    "            self.target_net.load_state_dict(self.eval_net.state_dict())         # 将评估网络的参数赋给目标网络\n",
    "        self.learn_step_counter += 1                                            # 学习步数自加1\n",
    "\n",
    "        # 抽取记忆库中的批数据\n",
    "        sample_index = np.random.choice(MEMORY_CAPACITY, BATCH_SIZE)            # 在[0, 2000)内随机抽取32个数，可能会重复\n",
    "        b_memory = self.memory[sample_index, :]                                 # 抽取32个索引对应的32个transition，存入b_memory\n",
    "        b_s = torch.FloatTensor(b_memory[:, :N_STATES])\n",
    "        # 将32个s抽出，转为32-bit floating point形式，并存储到b_s中，b_s为32行4列\n",
    "        b_a = torch.LongTensor(b_memory[:, N_STATES:N_STATES+1].astype(int))\n",
    "        # 将32个a抽出，转为64-bit integer (signed)形式，并存储到b_a中 (之所以为LongTensor类型，是为了方便后面torch.gather的使用)，b_a为32行1列\n",
    "        b_r = torch.FloatTensor(b_memory[:, N_STATES+1:N_STATES+2])\n",
    "        # 将32个r抽出，转为32-bit floating point形式，并存储到b_s中，b_r为32行1列\n",
    "        b_s_ = torch.FloatTensor(b_memory[:, -N_STATES:])\n",
    "        # 将32个s_抽出，转为32-bit floating point形式，并存储到b_s中，b_s_为32行4列\n",
    "\n",
    "        # 获取32个transition的评估值和目标值，并利用损失函数和优化器进行评估网络参数更新\n",
    "        q_eval = self.eval_net(b_s).gather(1, b_a)\n",
    "        # eval_net(b_s)通过评估网络输出32行每个b_s对应的一系列动作值，然后.gather(1, b_a)代表对每行对应索引b_a的Q值提取进行聚合\n",
    "        q_next = self.target_net(b_s_).detach()\n",
    "        # q_next不进行反向传递误差，所以detach；q_next表示通过目标网络输出32行每个b_s_对应的一系列动作值\n",
    "        q_target = b_r + GAMMA * q_next.max(1)[0].view(BATCH_SIZE, 1)\n",
    "        # q_next.max(1)[0]表示只返回每一行的最大值，不返回索引(长度为32的一维张量)；.view()表示把前面所得到的一维张量变成(BATCH_SIZE, 1)的形状；最终通过公式得到目标值\n",
    "        loss = self.loss_func(q_eval, q_target)\n",
    "        # 输入32个评估值和32个目标值，使用均方损失函数\n",
    "        self.optimizer.zero_grad()                                      # 清空上一步的残余更新参数值\n",
    "        loss.backward()                                                 # 误差反向传播, 计算参数更新值\n",
    "        self.optimizer.step()\n",
    "        "
   ]
  },
  {
   "cell_type": "code",
   "execution_count": 3,
   "id": "3a988c7c",
   "metadata": {},
   "outputs": [],
   "source": [
    "def imshow(img):\n",
    "    \n",
    "    npimg = img[0].cpu().numpy()\n",
    "    npimg = np.transpose(npimg,(1, 2, 0))\n",
    "    npimg = np.clip(npimg, 0, 1)\n",
    "    plt.imshow(npimg)\n",
    "    plt.show()"
   ]
  },
  {
   "cell_type": "code",
   "execution_count": 4,
   "id": "06f31f62",
   "metadata": {},
   "outputs": [],
   "source": [
    "def perturbation_heat_map(xo,xa):\n",
    "    \n",
    "    fig_dims = (5, 5)\n",
    "    fig, ax = plt.subplots(figsize=fig_dims)\n",
    "    x=torch.abs(xo-xa).sum(dim=1).cpu()[0]\n",
    "    sns.heatmap(x,ax=ax,xticklabels=False, yticklabels=False,cbar = False)\n",
    "    plt.show()"
   ]
  },
  {
   "cell_type": "markdown",
   "id": "e1b25425",
   "metadata": {},
   "source": [
    "### 1. Load data, pretrained model, evaluation set"
   ]
  },
  {
   "cell_type": "code",
   "execution_count": 5,
   "id": "f57bef7f",
   "metadata": {},
   "outputs": [
    {
     "name": "stdout",
     "output_type": "stream",
     "text": [
      "Files already downloaded and verified\n"
     ]
    }
   ],
   "source": [
    "# a. Load dataset\n",
    "\n",
    "batch_size = 32\n",
    "dataset = 'cifar10' \n",
    "datapath = '../datasets/cifar10'\n",
    "testloader, testset = load_data(dataset,data_path=datapath,batch_size=batch_size)"
   ]
  },
  {
   "cell_type": "code",
   "execution_count": 6,
   "id": "3dcdced9",
   "metadata": {},
   "outputs": [],
   "source": [
    "# b. Load pre-trained model\n",
    "\n",
    "# 'resnet50' if pre-trained model from Pytorch. 'cifar10' if using pre-trained cifar10 model\n",
    "arch = 'cifar10' \n",
    "\n",
    "# None means using pre-traineded model from Pytorch or default path. Otherwise, please change model_path = '...'\n",
    "model_path = None \n",
    "\n",
    "# True means pre-trained model does \"not\" normalized data while training, \n",
    "# so no need to unnorm during intergerence (used for CIFAR10 model)\n",
    "\n",
    "if dataset == 'cifar10':\n",
    "    num_classes = 10\n",
    "    unnorm = True # True means pre-trained model does \"not\" normalized data while training.\n",
    "    \n",
    "net = load_model(arch,model_path)\n",
    "model_rb = PretrainedModel(net,dataset,unnorm)\n",
    "\n",
    "bounds = [0,1]\n",
    "model_ex = PytorchModel_ex(net, bounds, num_classes,dataset,unnorm)"
   ]
  },
  {
   "cell_type": "code",
   "execution_count": 7,
   "id": "0b63ed2e",
   "metadata": {},
   "outputs": [],
   "source": [
    "# c. Load evaluation set\n",
    "targeted = True # True means targeted attack. False means untargeted attack.\n",
    "# 'balance', 'easyset'->imagenet or cifar10; \n",
    "# 'hardset'-> imagenet; \n",
    "# 'hardset_A','hardset_B','hardset_D' -> cifar10\n",
    "eval_set =  'hardset_A'\n",
    "\n",
    "ID_set = get_evalset(dataset,targeted,eval_set)"
   ]
  },
  {
   "cell_type": "markdown",
   "id": "a59b1a64",
   "metadata": {},
   "source": [
    "### 2. HopSkipJump Evaluation"
   ]
  },
  {
   "cell_type": "code",
   "execution_count": 8,
   "id": "a08eb5c1",
   "metadata": {},
   "outputs": [],
   "source": [
    "dqn=DQN()\n",
    "\n",
    "i = 2 #0,1,2,10,20, 50,123 # the sample i-th in the evaluation set\n",
    "query_limit = 50000\n",
    "D = np.zeros(query_limit+2000)\n",
    "nquery = 0\n",
    "o = ID_set[i,1] #oID\n",
    "\n",
    "# 0. select original image\n",
    "oimg, olabel = testset[o]\n",
    "oimg = torch.unsqueeze(oimg, 0).cuda()\n",
    "\n",
    "# 1. select starting image\n",
    "if targeted:\n",
    "    t = ID_set[i,3] #tID, 3 is index acrross dataset - 4 is sample index in a class (not accross dataset)\n",
    "    tlabel = ID_set[i,2]\n",
    "    timg, _ = testset[t]\n",
    "    timg = torch.unsqueeze(timg, 0).cuda()\n",
    "    y_targ = np.array([tlabel])\n",
    "else:\n",
    "    tlabel = None\n",
    "    y_targ = np.array([olabel])\n",
    "    \n",
    "# ============= 2. setup ==============\n",
    "if dataset == 'cifar10':\n",
    "    delta = 1e-2\n",
    "    len_T = 500\n",
    "\n",
    "constraint='l2'\n",
    "num_iterations=150\n",
    "gamma=1.0\n",
    "stepsize_search='geometric_progression'\n",
    "max_num_evals = 1e4\n",
    "init_num_evals=100\n",
    "verbose=True\n",
    "auto_terminate=False\n",
    "\n",
    "#seed = 0\n",
    "#np.random.seed(seed)"
   ]
  },
  {
   "cell_type": "code",
   "execution_count": 9,
   "id": "9eea7ca0",
   "metadata": {
    "scrolled": true
   },
   "outputs": [
    {
     "name": "stdout",
     "output_type": "stream",
     "text": [
      "iteration: 1, l2 distance 1.2249E+01 - nqry:140\n",
      "iteration: 11, l2 distance 4.4887E+00 - nqry:2806\n",
      "iteration: 21, l2 distance 2.4832E+00 - nqry:7040\n",
      "iteration: 31, l2 distance 2.0693E+00 - nqry:12368\n",
      "iteration: 41, l2 distance 1.6689E+00 - nqry:18592\n",
      "iteration: 51, l2 distance 1.5403E+00 - nqry:25596\n",
      "iteration: 61, l2 distance 1.4060E+00 - nqry:33300\n",
      "iteration: 71, l2 distance 1.3204E+00 - nqry:41643\n",
      "iteration: 81, l2 distance 1.2534E+00 - nqry:50579\n",
      "\n",
      "Break due to over query limit!\n",
      "\n"
     ]
    }
   ],
   "source": [
    "model_ex = PytorchModel_ex(net, bounds, num_classes,dataset,unnorm)\n",
    "module = HSJA(model_ex,constraint,num_iterations,gamma,stepsize_search,max_num_evals,init_num_evals, verbose,delta,len_T)\n",
    "if targeted:\n",
    "    adv, nqry, Dt = module.hsja(oimg.cpu().numpy(), y_targ, timg.cpu().numpy(),targeted,query_limit,auto_terminate)\n",
    "else:\n",
    "    timg = None\n",
    "    adv, nqry, Dt = module.hsja(oimg.cpu().numpy(), y_targ, timg,targeted,auto_terminate)\n",
    "    \n",
    "adv = torch.unsqueeze(torch.from_numpy(adv).float(), 0).cuda()"
   ]
  },
  {
   "cell_type": "code",
   "execution_count": 10,
   "id": "0ad1a832",
   "metadata": {
    "scrolled": true
   },
   "outputs": [
    {
     "name": "stdout",
     "output_type": "stream",
     "text": [
      "Source image:\n"
     ]
    },
    {
     "data": {
      "image/png": "[encoded data removed]",
      "text/plain": [
       "<Figure size 640x480 with 1 Axes>"
      ]
     },
     "metadata": {},
     "output_type": "display_data"
    },
    {
     "name": "stdout",
     "output_type": "stream",
     "text": [
      "Starting image:\n"
     ]
    },
    {
     "data": {
      "image/png": "[encoded data removed]",
      "text/plain": [
       "<Figure size 640x480 with 1 Axes>"
      ]
     },
     "metadata": {},
     "output_type": "display_data"
    },
    {
     "name": "stdout",
     "output_type": "stream",
     "text": [
      "Adversarial Example:\n"
     ]
    },
    {
     "data": {
      "image/png": "[encoded data removed]",
      "text/plain": [
       "<Figure size 640x480 with 1 Axes>"
      ]
     },
     "metadata": {},
     "output_type": "display_data"
    },
    {
     "ename": "NameError",
     "evalue": "name 'Image' is not defined",
     "output_type": "error",
     "traceback": [
      "\u001b[0;31m---------------------------------------------------------------------------\u001b[0m",
      "\u001b[0;31mNameError\u001b[0m                                 Traceback (most recent call last)",
      "Cell \u001b[0;32mIn[10], line 18\u001b[0m\n\u001b[1;32m     16\u001b[0m     pil_img \u001b[38;5;241m=\u001b[39m Image\u001b[38;5;241m.\u001b[39mfromarray(np\u001b[38;5;241m.\u001b[39muint8(npimg\u001b[38;5;241m*\u001b[39m\u001b[38;5;241m255\u001b[39m))\n\u001b[1;32m     17\u001b[0m     pil_img\u001b[38;5;241m.\u001b[39msave(filename)\n\u001b[0;32m---> 18\u001b[0m \u001b[43msave_img\u001b[49m\u001b[43m(\u001b[49m\u001b[43madv\u001b[49m\u001b[43m,\u001b[49m\u001b[38;5;124;43m'\u001b[39;49m\u001b[38;5;124;43madv.jpg\u001b[39;49m\u001b[38;5;124;43m'\u001b[39;49m\u001b[43m)\u001b[49m\n\u001b[1;32m     19\u001b[0m imshow(adv)    \n\u001b[1;32m     20\u001b[0m \u001b[38;5;28mprint\u001b[39m(\u001b[38;5;124m'\u001b[39m\u001b[38;5;124mPerturbation Heat Map:\u001b[39m\u001b[38;5;124m'\u001b[39m)\n",
      "Cell \u001b[0;32mIn[10], line 16\u001b[0m, in \u001b[0;36msave_img\u001b[0;34m(img, filename)\u001b[0m\n\u001b[1;32m     14\u001b[0m npimg \u001b[38;5;241m=\u001b[39m np\u001b[38;5;241m.\u001b[39mtranspose(npimg,(\u001b[38;5;241m1\u001b[39m, \u001b[38;5;241m2\u001b[39m, \u001b[38;5;241m0\u001b[39m))\n\u001b[1;32m     15\u001b[0m npimg \u001b[38;5;241m=\u001b[39m np\u001b[38;5;241m.\u001b[39mclip(npimg, \u001b[38;5;241m0\u001b[39m, \u001b[38;5;241m1\u001b[39m)\n\u001b[0;32m---> 16\u001b[0m pil_img \u001b[38;5;241m=\u001b[39m \u001b[43mImage\u001b[49m\u001b[38;5;241m.\u001b[39mfromarray(np\u001b[38;5;241m.\u001b[39muint8(npimg\u001b[38;5;241m*\u001b[39m\u001b[38;5;241m255\u001b[39m))\n\u001b[1;32m     17\u001b[0m pil_img\u001b[38;5;241m.\u001b[39msave(filename)\n",
      "\u001b[0;31mNameError\u001b[0m: name 'Image' is not defined"
     ]
    }
   ],
   "source": [
    "print('Source image:')\n",
    "imshow(oimg)\n",
    "\n",
    "print('Starting image:')\n",
    "timg, _ = testset[t]\n",
    "timg = torch.unsqueeze(timg, 0).cuda()\n",
    "imshow(timg)\n",
    "\n",
    "print('Adversarial Example:')\n",
    "imshow(adv)\n",
    "\n",
    "def save_img(img, filename):\n",
    "    npimg = img[0].cpu().numpy()\n",
    "    npimg = np.transpose(npimg,(1, 2, 0))\n",
    "    npimg = np.clip(npimg, 0, 1)\n",
    "    pil_img = Image.fromarray(np.uint8(npimg*255))\n",
    "    pil_img.save(filename)\n",
    "save_img(adv,'adv.jpg')\n",
    "imshow(adv)    \n",
    "print('Perturbation Heat Map:')\n",
    "perturbation_heat_map(oimg,adv)"
   ]
  },
  {
   "cell_type": "code",
   "execution_count": null,
   "id": "97d354ba",
   "metadata": {},
   "outputs": [],
   "source": [
    "DHsja = Dt"
   ]
  },
  {
   "cell_type": "markdown",
   "id": "1af32ecc",
   "metadata": {},
   "source": [
    "### 3. Sign-OPT Evaluation"
   ]
  },
  {
   "cell_type": "code",
   "execution_count": null,
   "id": "f60ad951",
   "metadata": {},
   "outputs": [],
   "source": [
    "i = 50#0,1,2,10,20,50,123 # the sample i-th in the evaluation set\n",
    "query_limit = 50000\n",
    "D = np.zeros(query_limit+2000)\n",
    "nquery = 0\n",
    "o = ID_set[i,1] #oID\n",
    "\n",
    "# 0. select original image\n",
    "oimg, olabel = testset[o]\n",
    "oimg = torch.unsqueeze(oimg, 0).cuda()\n",
    "\n",
    "# 1. select starting image\n",
    "if targeted:\n",
    "    t = ID_set[i,3] #tID, 3 is index acrross dataset - 4 is sample index in a class (not accross dataset)\n",
    "    tlabel = ID_set[i,2]\n",
    "    timg, _ = testset[t]\n",
    "    timg = torch.unsqueeze(timg, 0).cuda()\n",
    "    y_targ = np.array([tlabel])\n",
    "else:\n",
    "    tlabel = None\n",
    "    y_targ = np.array([olabel])\n",
    "    \n",
    "# ============= 2. setup ==============\n",
    "alpha = 0.2\n",
    "beta = 0.001\n",
    "iterations = 5000\n",
    "distortion = None\n",
    "stopping = 0.0001\n",
    "auto_terminate=False\n",
    "k=200\n",
    "\n",
    "seed = 0\n",
    "#np.random.seed(seed)\n",
    "\n",
    "if dataset == 'cifar10':\n",
    "    delta = 1e-2\n",
    "    len_T = 2\n",
    "elif dataset == 'imagenet':\n",
    "    delta = 1\n",
    "    len_T = 4\n",
    "\n",
    "module = OPT_attack_sign_SGD(model_rb,k,delta,len_T,testset)"
   ]
  },
  {
   "cell_type": "code",
   "execution_count": null,
   "id": "1e3ad997",
   "metadata": {},
   "outputs": [],
   "source": [
    "if targeted:\n",
    "    adv, nqry, Dt = module.attack_targeted(oimg, olabel, timg, tlabel, alpha, beta, iterations, query_limit, distortion, seed, stopping, auto_terminate)"
   ]
  },
  {
   "cell_type": "code",
   "execution_count": null,
   "id": "9dfc452d",
   "metadata": {
    "scrolled": true
   },
   "outputs": [],
   "source": [
    "print('Source image:')\n",
    "imshow(oimg)\n",
    "\n",
    "print('Starting image:')\n",
    "timg, _ = testset[t]\n",
    "timg = torch.unsqueeze(timg, 0).cuda()\n",
    "imshow(timg)\n",
    "\n",
    "print('Adversarial Example:')\n",
    "imshow(adv)\n",
    "\n",
    "print('Perturbation Heat Map:')\n",
    "perturbation_heat_map(oimg,adv)"
   ]
  },
  {
   "cell_type": "code",
   "execution_count": null,
   "id": "8c0ccbe2",
   "metadata": {},
   "outputs": [],
   "source": [
    "DSopt = Dt"
   ]
  },
  {
   "cell_type": "markdown",
   "id": "c6e250dc",
   "metadata": {},
   "source": [
    "### 4. RamBoAttack Evaluation"
   ]
  },
  {
   "cell_type": "markdown",
   "id": "01add320",
   "metadata": {},
   "source": [
    "### 4a. RamBoAttack (HSJA) Evaluation"
   ]
  },
  {
   "cell_type": "code",
   "execution_count": null,
   "id": "1316559b",
   "metadata": {},
   "outputs": [],
   "source": [
    "i = 1#0,1,2,10,20,50,123 # the sample i-th in the evaluation set\n",
    "query_limit = 50000\n",
    "D = np.zeros(query_limit+2000)\n",
    "nquery = 0\n",
    "o = ID_set[i,1] #oID\n",
    "\n",
    "# 0. select original image\n",
    "oimg, olabel = testset[o]\n",
    "oimg = torch.unsqueeze(oimg, 0).cuda()\n",
    "\n",
    "# 1. select starting image\n",
    "if targeted:\n",
    "    t = ID_set[i,3] #tID, 3 is index acrross dataset - 4 is sample index in a class (not accross dataset)\n",
    "    tlabel = ID_set[i,2]\n",
    "    timg, _ = testset[t]\n",
    "    timg = torch.unsqueeze(timg, 0).cuda()\n",
    "else:\n",
    "    tlabel = None"
   ]
  },
  {
   "cell_type": "code",
   "execution_count": null,
   "id": "4818135d",
   "metadata": {
    "scrolled": true
   },
   "outputs": [],
   "source": [
    "attack_mode = 'RBH' # 'RBH' means RamBoAttack(HSJA) while 'RBS' means RamBoAttack(Sign-OPT) -> see our paper\n",
    "seed = 0\n",
    "query_limit = 50000\n",
    "\n",
    "model_ex = PytorchModel_ex(net, bounds, num_classes,dataset,unnorm)\n",
    "module = RamBoAtt(model_rb,model_ex,testset,seed,targeted,dataset)\n",
    "adv, nqry, Dt = module.hybrid_attack(oimg,olabel,timg,tlabel,query_limit,attack_mode)"
   ]
  },
  {
   "cell_type": "code",
   "execution_count": null,
   "id": "7dd943ad",
   "metadata": {
    "scrolled": true
   },
   "outputs": [],
   "source": [
    "print('Source image:')\n",
    "imshow(oimg)\n",
    "\n",
    "print('Starting image:')\n",
    "timg, _ = testset[t]\n",
    "timg = torch.unsqueeze(timg, 0).cuda()\n",
    "imshow(timg)\n",
    "\n",
    "print('Adversarial Example:')\n",
    "imshow(adv)\n",
    "\n",
    "print('Perturbation Heat Map:')\n",
    "perturbation_heat_map(oimg,adv)"
   ]
  },
  {
   "cell_type": "code",
   "execution_count": null,
   "id": "68bb54df",
   "metadata": {},
   "outputs": [],
   "source": [
    "DRambH = Dt"
   ]
  },
  {
   "cell_type": "code",
   "execution_count": null,
   "id": "802fd04e",
   "metadata": {},
   "outputs": [],
   "source": [
    "# check prediction of adversarial example\n",
    "alabel = model_rb.predict_label(adv).item()\n",
    "dist = torch.norm(adv-oimg)\n",
    "print(f'- sample ID: {o}\\n- ground-truth: {olabel} \\n- target label: {tlabel} \\n- AdvEx label: {alabel}\\n- L2 dist:{dist}')"
   ]
  },
  {
   "cell_type": "code",
   "execution_count": null,
   "id": "7c20f16e",
   "metadata": {},
   "outputs": [],
   "source": [
    "\n",
    "# successful_attacks = 0 # count the number of successful attacks\n",
    "# for _ in range(100): # run the attack 100 times\n",
    "#     i = 2 # 0,1,2,10,20,50,123: the sample i-th in the evaluation set\n",
    "#     # Define the list of options\n",
    "#     options = [0, 1, 2, 10, 20, 50, 123]\n",
    "\n",
    "#     # Choose a random value from the list\n",
    "#     i = random.choice(options)\n",
    "#     query_limit = 5000\n",
    "#     D = np.zeros(query_limit+2000)\n",
    "#     nquery = 0\n",
    "#     o = ID_set[i,1] # oID\n",
    "#     # 0. select original image\n",
    "#     oimg, olabel = testset[o]\n",
    "#     oimg = torch.unsqueeze(oimg, 0).cuda()\n",
    "\n",
    "#     # 1. select starting image\n",
    "#     if targeted:\n",
    "#         x = random.randint(1, 4)\n",
    "#         y =random.randint(1,4)\n",
    "#         t = ID_set[i,3] # tID, 3 is index across dataset - 4 is sample index in a class (not across dataset)\n",
    "#         tlabel = ID_set[i,2]\n",
    "#         timg, _ = testset[t]\n",
    "#         timg = torch.unsqueeze(timg, 0).cuda()\n",
    "#     else:\n",
    "#         tlabel = None\n",
    "#     attack_mode = 'RBS' # 'RBH' means RamBoAttack(HSJA) while 'RBS' means RamBoAttack(Sign-OPT) -> see our paper\n",
    "#     seed = 0\n",
    "#     query_limit = 1000\n",
    "#     module = RamBoAtt(model_rb, model_ex, testset, seed, targeted, dataset)\n",
    "#     adv, nqry, Dt = module.hybrid_attack(oimg, olabel, timg, tlabel, query_limit, attack_mode)\n",
    "#     print(nqry)\n",
    "#     if nqry > 1050: # check if the attack succeeded with more than 1000 queries\n",
    "#         successful_attacks += 1\n",
    "\n",
    "# print(\"Number of successful attacks with more than 1000 queries:\", successful_attacks)"
   ]
  },
  {
   "cell_type": "markdown",
   "id": "80a19e36",
   "metadata": {},
   "source": [
    "### 4b. RamBoAttack (SignOPT) Evaluation"
   ]
  },
  {
   "cell_type": "code",
   "execution_count": null,
   "id": "eda3cb9d",
   "metadata": {},
   "outputs": [],
   "source": [
    "i = 50#0,1,2,10,20,50,123 # the sample i-th in the evaluation set\n",
    "query_limit = 50000\n",
    "D = np.zeros(query_limit+2000)\n",
    "nquery = 0\n",
    "o = ID_set[i,3] #oID\n",
    "\n",
    "# 0. select original image\n",
    "oimg, olabel = testset[o]\n",
    "oimg = torch.unsqueeze(oimg, 0).cuda()\n",
    "print(ID_set[20,1])\n",
    "imshow(oimg)\n",
    "# 1. select starting image\n",
    "if targeted:\n",
    "    t = ID_set[i,3] #tID, 3 is index acrross dataset - 4 is sample index in a class (not accross dataset)\n",
    "    tlabel = ID_set[i,2]\n",
    "    timg, _ = testset[t]\n",
    "    timg = torch.unsqueeze(timg, 0).cuda()\n",
    "else:\n",
    "    tlabel = None"
   ]
  },
  {
   "cell_type": "code",
   "execution_count": null,
   "id": "37c790c3",
   "metadata": {},
   "outputs": [],
   "source": []
  },
  {
   "cell_type": "code",
   "execution_count": null,
   "id": "6a23aa61",
   "metadata": {
    "scrolled": true
   },
   "outputs": [],
   "source": [
    "attack_mode = 'RBS' # 'RBH' means RamBoAttack(HSJA) while 'RBS' means RamBoAttack(Sign-OPT) -> see our paper\n",
    "seed = 0\n",
    "query_limit = 1000\n",
    "module = RamBoAtt(model_rb,model_ex,testset,seed,targeted,dataset)\n",
    "adv, nqry, Dt = module.hybrid_attack(oimg,olabel,timg,tlabel,query_limit,attack_mode)"
   ]
  },
  {
   "cell_type": "code",
   "execution_count": null,
   "id": "ccab5090",
   "metadata": {
    "scrolled": true
   },
   "outputs": [],
   "source": [
    "from PIL import Image\n",
    "from skimage.io import imsave\n",
    "import numpy as np\n",
    "def save_img(img, filename):\n",
    "    npimg = img[0].cpu().numpy()\n",
    "    npimg = np.transpose(npimg,(1, 2, 0))\n",
    "    npimg = np.clip(npimg, 0, 1)\n",
    "    pil_img = Image.fromarray(np.uint8(npimg*255))\n",
    "    pil_img.save(filename)\n",
    "    \n",
    "print('Source image:')\n",
    "imshow(oimg)\n",
    "#oimg.save('Source_image.jpg')\n",
    "print('Starting image:')\n",
    "timg, _ = testset[t]\n",
    "timg = torch.unsqueeze(timg, 0).cuda()\n",
    "imshow(timg)\n",
    "\n",
    "print('Adversarial Example:')\n",
    "save_img(adv,'adv.jpg')\n",
    "#oimg.save('Adversarial Example.jpg')\n",
    "print('Perturbation Heat Map:')\n",
    "perturbation_heat_map(oimg,adv)"
   ]
  },
  {
   "cell_type": "code",
   "execution_count": null,
   "id": "0b1490bf",
   "metadata": {},
   "outputs": [],
   "source": [
    "DRambS = Dt"
   ]
  },
  {
   "cell_type": "code",
   "execution_count": null,
   "id": "c677b40c",
   "metadata": {},
   "outputs": [],
   "source": [
    "# check prediction of adversarial example\n",
    "alabel = model_rb.predict_label(adv).item()\n",
    "dist = torch.norm(adv-oimg)\n",
    "print(f'- sample ID: {o}\\n- ground-truth: {olabel} \\n- target label: {tlabel} \\n- AdvEx label: {alabel}\\n- L2 dist:{dist}')"
   ]
  },
  {
   "cell_type": "markdown",
   "id": "059ce735",
   "metadata": {},
   "source": [
    "### 6. Plot Distortion vs Queries"
   ]
  },
  {
   "cell_type": "code",
   "execution_count": null,
   "id": "6ccfcc77",
   "metadata": {
    "scrolled": false
   },
   "outputs": [],
   "source": [
    "nq = query_limit\n",
    "q = np.arange(nq)\n",
    "df = pd.DataFrame({'qry':q,'dRambH':np.log(DRambH[:query_limit]),\n",
    "                   'dRambS':np.log(DRambS[:query_limit]),\n",
    "                   'dHsja':np.log(DHsja[:query_limit]),\n",
    "                  'dSopt':np.log(DSopt[:query_limit])})\n",
    "\n",
    "fig_dims = (8, 5)\n",
    "fig, ax = plt.subplots(figsize=fig_dims)\n",
    "f = sns.lineplot(x = 'qry', y = 'dRambH',ax=ax,linewidth = 3, color = 'red',label = 'RamBoAttack (HSJA)',data=df)\n",
    "f = sns.lineplot(x = 'qry', y = 'dRambS',ax=ax,linewidth = 3, color = 'blue',label = 'RamBoAttack (SOPT)',data=df)\n",
    "f = sns.lineplot(x = 'qry', y = 'dHsja',ax=ax,linewidth = 3, color = 'green',label = 'HopSkipJump',data=df)\n",
    "f = sns.lineplot(x = 'qry', y = 'dSopt',ax=ax,linewidth = 3, color = 'orange',label = 'Sign-OPT',data=df)\n",
    "\n",
    "f.axes.set_title(\"Distortion vs Queries (RamBoAttack)\",fontsize=20)\n",
    "f.set_xlabel(\"Queries\",fontsize=18)\n",
    "f.set_ylabel(\"Log10 (L2 dist)\",fontsize=18)\n",
    "f.tick_params(labelsize=15)\n",
    "#plt.legend(labels=['RamBoAttack (HSJA)'])\n",
    "plt.legend(title='Attack', fontsize='14', title_fontsize='18',bbox_to_anchor= (1.5,1))\n",
    "plt.show()"
   ]
  },
  {
   "cell_type": "code",
   "execution_count": null,
   "id": "cf1df8a9",
   "metadata": {},
   "outputs": [],
   "source": []
  },
  {
   "cell_type": "code",
   "execution_count": null,
   "id": "750c901b",
   "metadata": {},
   "outputs": [],
   "source": []
  },
  {
   "cell_type": "code",
   "execution_count": null,
   "id": "679ad709",
   "metadata": {},
   "outputs": [],
   "source": []
  },
  {
   "cell_type": "code",
   "execution_count": null,
   "id": "638b968d",
   "metadata": {},
   "outputs": [],
   "source": []
  }
 ],
 "metadata": {
  "kernelspec": {
   "display_name": "Python 3 (ipykernel)",
   "language": "python",
   "name": "python3"
  },
  "language_info": {
   "codemirror_mode": {
    "name": "ipython",
    "version": 3
   },
   "file_extension": ".py",
   "mimetype": "text/x-python",
   "name": "python",
   "nbconvert_exporter": "python",
   "pygments_lexer": "ipython3",
   "version": "3.9.12"
  }
 },
 "nbformat": 4,
 "nbformat_minor": 5
}
